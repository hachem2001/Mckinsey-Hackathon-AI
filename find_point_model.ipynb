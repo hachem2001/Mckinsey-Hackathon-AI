{
 "cells": [
  {
   "cell_type": "code",
   "execution_count": 1,
   "id": "ffd40ec1-cbe0-48e7-bd71-a11a384f5c1f",
   "metadata": {
    "scrolled": true
   },
   "outputs": [],
   "source": [
    "import os\n",
    "import pandas as pd\n",
    "import numpy as np\n",
    "from sklearn.model_selection import train_test_split\n",
    "from tensorflow.keras.preprocessing.image import load_img, img_to_array\n",
    "from tensorflow.keras.utils import to_categorical\n",
    "from tensorflow.keras import layers, models\n",
    "from sklearn.metrics import mean_squared_error"
   ]
  },
  {
   "cell_type": "code",
   "execution_count": 2,
   "id": "fe8b94de",
   "metadata": {},
   "outputs": [],
   "source": [
    "# Load Metadata\n",
    "metadata_path = './metadata_aug.csv'\n",
    "metadata = pd.read_csv(metadata_path)\n",
    "\n",
    "# Load Images and Labels\n",
    "image_paths = metadata['path'].values\n",
    "all_labels = metadata[['coord_x', 'coord_y']].values\n",
    "\n",
    "# Load images and convert them to arrays\n",
    "images = []\n",
    "labels = []\n",
    "for i, path in enumerate(image_paths):\n",
    "    if(path[7:12] == 'plume'): #Only train on images that have plume\n",
    "        path = \"./\" + path + \".tif\"\n",
    "        img = load_img(path, color_mode='grayscale', target_size=(64, 64))\n",
    "        img_array = img_to_array(img)\n",
    "        img_array /= np.max(img_array) #Renormalize to 0,1 because the .tif format has high pixel values \n",
    "        images.append(img_array)\n",
    "        labels.append(all_labels[i])\n",
    "    \n",
    "\n",
    "images = np.array(images)\n",
    "labels = np.array(labels)\n",
    "\n",
    "# Preprocess Data\n",
    "X_train, X_temp, y_train, y_temp = train_test_split(images, labels, test_size=0.3, random_state=42)\n",
    "X_val, X_test, y_val, y_test = train_test_split(X_temp, y_temp, test_size=0.5, random_state=42)"
   ]
  },
  {
   "cell_type": "code",
   "execution_count": 3,
   "id": "810368ae",
   "metadata": {},
   "outputs": [],
   "source": [
    "# Model Architecture\n",
    "model = models.Sequential()\n",
    "model.add(layers.Conv2D(32, (3, 3), activation='relu', input_shape=(64, 64, 1)))\n",
    "model.add(layers.MaxPooling2D((2, 2)))\n",
    "model.add(layers.Conv2D(64, (3, 3), activation='relu'))\n",
    "model.add(layers.MaxPooling2D((2, 2)))\n",
    "model.add(layers.Flatten())\n",
    "model.add(layers.Dense(64, activation='relu'))\n",
    "model.add(layers.Dense(2))  # 2 output neurons for x and y coordinates\n",
    "\n",
    "model.compile(optimizer='adam', loss='mse')  # Mean Squared Error as the loss function for regression\n"
   ]
  },
  {
   "cell_type": "code",
   "execution_count": 4,
   "id": "d304469f",
   "metadata": {},
   "outputs": [
    {
     "name": "stdout",
     "output_type": "stream",
     "text": [
      "Epoch 1/15\n",
      "38/38 [==============================] - 5s 81ms/step - loss: 624.0635 - val_loss: 381.2783\n",
      "Epoch 2/15\n",
      "38/38 [==============================] - 3s 68ms/step - loss: 380.5828 - val_loss: 305.3297\n",
      "Epoch 3/15\n",
      "38/38 [==============================] - 3s 67ms/step - loss: 344.0085 - val_loss: 292.3805\n",
      "Epoch 4/15\n",
      "38/38 [==============================] - 2s 64ms/step - loss: 323.8742 - val_loss: 312.9113\n",
      "Epoch 5/15\n",
      "38/38 [==============================] - 2s 65ms/step - loss: 312.4187 - val_loss: 264.4364\n",
      "Epoch 6/15\n",
      "38/38 [==============================] - 3s 71ms/step - loss: 289.4874 - val_loss: 263.9958\n",
      "Epoch 7/15\n",
      "38/38 [==============================] - 3s 69ms/step - loss: 271.3947 - val_loss: 253.0863\n",
      "Epoch 8/15\n",
      "38/38 [==============================] - 3s 70ms/step - loss: 260.0743 - val_loss: 263.4184\n",
      "Epoch 9/15\n",
      "38/38 [==============================] - 2s 65ms/step - loss: 248.4928 - val_loss: 246.4610\n",
      "Epoch 10/15\n",
      "38/38 [==============================] - 3s 67ms/step - loss: 224.6717 - val_loss: 239.6449\n",
      "Epoch 11/15\n",
      "38/38 [==============================] - 2s 64ms/step - loss: 203.6009 - val_loss: 238.4726\n",
      "Epoch 12/15\n",
      "38/38 [==============================] - 3s 71ms/step - loss: 188.2142 - val_loss: 229.0812\n",
      "Epoch 13/15\n",
      "38/38 [==============================] - 3s 68ms/step - loss: 176.3530 - val_loss: 222.8779\n",
      "Epoch 14/15\n",
      "38/38 [==============================] - 3s 70ms/step - loss: 149.9344 - val_loss: 232.2444\n",
      "Epoch 15/15\n",
      "38/38 [==============================] - 2s 65ms/step - loss: 149.9585 - val_loss: 214.7808\n"
     ]
    },
    {
     "data": {
      "text/plain": [
       "<keras.src.callbacks.History at 0x1d3424a5ad0>"
      ]
     },
     "execution_count": 4,
     "metadata": {},
     "output_type": "execute_result"
    }
   ],
   "source": [
    "# Train the Model\n",
    "model.fit(X_train, y_train, epochs=15, batch_size=16, validation_data=(X_val, y_val))"
   ]
  },
  {
   "cell_type": "code",
   "execution_count": 7,
   "id": "3bcfb049",
   "metadata": {},
   "outputs": [
    {
     "name": "stdout",
     "output_type": "stream",
     "text": [
      "5/5 [==============================] - 0s 28ms/step\n",
      "Mean Squared Error: 228.26510343697177\n",
      "Test Accuracy: 0.7076923076923077\n"
     ]
    }
   ],
   "source": [
    "# Make predictions\n",
    "predictions = model.predict(X_test)\n",
    "\n",
    "mse = mean_squared_error(y_test, predictions)\n",
    "\n",
    "# Distance threshold in pixels to seperate correct and wrong predictions\n",
    "threshold = 20\n",
    "\n",
    "# Calculate accuracy\n",
    "accuracy = np.mean(np.all(np.square(y_test - predictions) < threshold**2, axis=1))\n",
    "\n",
    "print(f'Mean Squared Error: {mse}')\n",
    "print(f'Test Accuracy: {accuracy}')\n"
   ]
  },
  {
   "cell_type": "code",
   "execution_count": 6,
   "id": "8909b62c",
   "metadata": {},
   "outputs": [
    {
     "name": "stderr",
     "output_type": "stream",
     "text": [
      "C:\\Users\\Hp\\anaconda3\\Lib\\site-packages\\keras\\src\\engine\\training.py:3079: UserWarning: You are saving your model as an HDF5 file via `model.save()`. This file format is considered legacy. We recommend using instead the native Keras format, e.g. `model.save('my_model.keras')`.\n",
      "  saving_api.save_model(\n"
     ]
    }
   ],
   "source": [
    "model.save('point_predictor.h5')"
   ]
  },
  {
   "cell_type": "code",
   "execution_count": null,
   "id": "bcccaaa0",
   "metadata": {},
   "outputs": [],
   "source": []
  }
 ],
 "metadata": {
  "kernelspec": {
   "display_name": "Python 3 (ipykernel)",
   "language": "python",
   "name": "python3"
  },
  "language_info": {
   "codemirror_mode": {
    "name": "ipython",
    "version": 3
   },
   "file_extension": ".py",
   "mimetype": "text/x-python",
   "name": "python",
   "nbconvert_exporter": "python",
   "pygments_lexer": "ipython3",
   "version": "3.11.4"
  }
 },
 "nbformat": 4,
 "nbformat_minor": 5
}
