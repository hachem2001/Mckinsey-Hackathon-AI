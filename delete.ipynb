{
 "cells": [
  {
   "cell_type": "code",
   "execution_count": 2,
   "id": "ffd40ec1-cbe0-48e7-bd71-a11a384f5c1f",
   "metadata": {},
   "outputs": [
    {
     "name": "stdout",
     "output_type": "stream",
     "text": [
      "All files in './images/plume_new' successfully deleted.\n",
      "All files in './images/no_plume_new' successfully deleted.\n"
     ]
    }
   ],
   "source": [
    "import os\n",
    "import glob\n",
    "\n",
    "directory_paths = ['./images/plume_new', './images/no_plume_new']\n",
    "\n",
    "\n",
    "#Delete all generated photos\n",
    "for path in directory_paths:\n",
    "    # Construct the pattern to match all files in the directory\n",
    "    files_to_delete = os.path.join(path, '*')\n",
    "\n",
    "    # Use glob to get a list of all file paths matching the pattern\n",
    "    file_paths = glob.glob(files_to_delete)\n",
    "\n",
    "    # Iterate through the file paths and delete each file\n",
    "    for file_path in file_paths:\n",
    "        os.remove(file_path)\n",
    "\n",
    "    print(f\"All files in '{path}' successfully deleted.\")\n"
   ]
  },
  {
   "cell_type": "code",
   "execution_count": null,
   "id": "c5231c14-56f8-4d77-85e9-d81c5c2371ce",
   "metadata": {},
   "outputs": [],
   "source": []
  }
 ],
 "metadata": {
  "kernelspec": {
   "display_name": "Python 3 (ipykernel)",
   "language": "python",
   "name": "python3"
  },
  "language_info": {
   "codemirror_mode": {
    "name": "ipython",
    "version": 3
   },
   "file_extension": ".py",
   "mimetype": "text/x-python",
   "name": "python",
   "nbconvert_exporter": "python",
   "pygments_lexer": "ipython3",
   "version": "3.11.4"
  }
 },
 "nbformat": 4,
 "nbformat_minor": 5
}
